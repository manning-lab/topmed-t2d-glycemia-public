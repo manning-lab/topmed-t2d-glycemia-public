{
 "cells": [
  {
   "cell_type": "code",
   "execution_count": 1,
   "metadata": {},
   "outputs": [],
   "source": [
    "from firecloud import fiss\n",
    "import pandas as pd\n",
    "pd.set_option('display.max_row', 10000)\n",
    "import io\n",
    "import numpy as np\n",
    "from pprint import pprint"
   ]
  },
  {
   "cell_type": "code",
   "execution_count": 2,
   "metadata": {},
   "outputs": [],
   "source": [
    "%%capture\n",
    "! pip install plotly"
   ]
  },
  {
   "cell_type": "code",
   "execution_count": 3,
   "metadata": {},
   "outputs": [
    {
     "name": "stderr",
     "output_type": "stream",
     "text": [
      "Running on Apache Spark version 2.0.2\n",
      "SparkUI available at http://10.128.0.3:4040\n",
      "Welcome to\n",
      "     __  __     <>__\n",
      "    / /_/ /__  __/ /\n",
      "   / __  / _ `/ / /\n",
      "  /_/ /_/\\_,_/_/_/   version 0.1-6f85985\n"
     ]
    }
   ],
   "source": [
    "## start hail context\n",
    "from hail import *\n",
    "hc = HailContext(sc)"
   ]
  },
  {
   "cell_type": "code",
   "execution_count": 4,
   "metadata": {},
   "outputs": [
    {
     "name": "stdout",
     "output_type": "stream",
     "text": [
      "Sample set name: freeze5b_minDP10\n",
      "Sample set fields: wgsa_subset, gds, vcf, bcf, tbi, cov_grm, samples, wgsa_raw, cor_grm\n"
     ]
    }
   ],
   "source": [
    "samples_sets = fiss.fapi.get_entities('topmed-shared','topmed-shared', 'sample_set').json()\n",
    "print 'Sample set name:', samples_sets[0]['name']\n",
    "print 'Sample set fields:', ', '.join(samples_sets[0]['attributes'].keys())\n"
   ]
  },
  {
   "cell_type": "code",
   "execution_count": 19,
   "metadata": {},
   "outputs": [],
   "source": [
    "#https://portal.firecloud.org/#workspaces/topmed-shared/topmed-shared/monitor/121627f8-4a22-475e-9ce3-16214a2607dc/475a4382-ad55-48f4-9e13-ce5436d472a4\n",
    "# TOPMed JHS subset\n",
    "vcf_files = [\"gs://fc-adaae650-a458-4c56-8a55-d96fa463a5c6/121627f8-4a22-475e-9ce3-16214a2607dc/w/475a4382-ad55-48f4-9e13-ce5436d472a4/call-subset/shard-6/JHS.vcf.bgz\",\n",
    "             \"gs://fc-adaae650-a458-4c56-8a55-d96fa463a5c6/121627f8-4a22-475e-9ce3-16214a2607dc/w/475a4382-ad55-48f4-9e13-ce5436d472a4/call-subset/shard-9/JHS.vcf.bgz\",\n",
    "             \"gs://fc-adaae650-a458-4c56-8a55-d96fa463a5c6/121627f8-4a22-475e-9ce3-16214a2607dc/w/475a4382-ad55-48f4-9e13-ce5436d472a4/call-subset/shard-10/JHS.vcf.bgz\",\n",
    "             \"gs://fc-adaae650-a458-4c56-8a55-d96fa463a5c6/121627f8-4a22-475e-9ce3-16214a2607dc/w/475a4382-ad55-48f4-9e13-ce5436d472a4/call-subset/shard-12/JHS.vcf.bgz\",\n",
    "            \"gs://fc-adaae650-a458-4c56-8a55-d96fa463a5c6/121627f8-4a22-475e-9ce3-16214a2607dc/w/475a4382-ad55-48f4-9e13-ce5436d472a4/call-subset/shard-13/JHS.vcf.bgz\",\n",
    "            \"gs://fc-adaae650-a458-4c56-8a55-d96fa463a5c6/121627f8-4a22-475e-9ce3-16214a2607dc/w/475a4382-ad55-48f4-9e13-ce5436d472a4/call-subset/shard-14/JHS.vcf.bgz\"]\n"
   ]
  },
  {
   "cell_type": "markdown",
   "metadata": {},
   "source": [
    "For analysis, we will want to combine genotype data in several different ways -- and these will be specific to each working group. One of the first operations will be to subset the data to a set of cohorts in the T2D analysis."
   ]
  },
  {
   "cell_type": "markdown",
   "metadata": {},
   "source": [
    "Taking a look at the top of this data frame:"
   ]
  },
  {
   "cell_type": "code",
   "execution_count": 20,
   "metadata": {},
   "outputs": [
    {
     "name": "stderr",
     "output_type": "stream",
     "text": [
      "2017-11-30 03:34:17 Hail: INFO: No multiallelics detected.\n",
      "2017-11-30 03:34:18 Hail: INFO: Coerced sorted dataset\n",
      "2017-11-30 03:34:18 Hail: WARN: called redundant split on an already split VDS\n"
     ]
    }
   ],
   "source": [
    "vds = hc.import_vcf(vcf_files,min_partitions = 120).split_multi()"
   ]
  },
  {
   "cell_type": "code",
   "execution_count": 21,
   "metadata": {},
   "outputs": [
    {
     "name": "stdout",
     "output_type": "stream",
     "text": [
      "\n",
      "         Samples: 697\n",
      "        Variants: 74014035\n",
      "       Call Rate: 0.990392\n",
      "         Contigs: ['chr22', 'chr19', 'chr15', 'chr18', 'chr20', 'chr21']\n",
      "   Multiallelics: 0\n",
      "            SNPs: 66200339\n",
      "            MNPs: 0\n",
      "      Insertions: 2816030\n",
      "       Deletions: 4997666\n",
      " Complex Alleles: 0\n",
      "    Star Alleles: 0\n",
      "     Max Alleles: 2\n"
     ]
    }
   ],
   "source": [
    "vds.summarize().report()"
   ]
  },
  {
   "cell_type": "code",
   "execution_count": 22,
   "metadata": {},
   "outputs": [],
   "source": [
    "vds = vds.variant_qc().cache()"
   ]
  },
  {
   "cell_type": "markdown",
   "metadata": {},
   "source": [
    "Filter to variants that have MAC>0 in this sample."
   ]
  },
  {
   "cell_type": "code",
   "execution_count": 23,
   "metadata": {},
   "outputs": [],
   "source": [
    "vds_subset_one_group = vds.filter_variants_expr('va.qc.AC>0').repartition(120)"
   ]
  },
  {
   "cell_type": "code",
   "execution_count": null,
   "metadata": {},
   "outputs": [],
   "source": [
    "vds_subset_one_group.summarize().report()"
   ]
  },
  {
   "cell_type": "markdown",
   "metadata": {},
   "source": [
    "LD prune - make new data set"
   ]
  },
  {
   "cell_type": "code",
   "execution_count": null,
   "metadata": {},
   "outputs": [
    {
     "name": "stderr",
     "output_type": "stream",
     "text": [
      "2017-11-30 03:50:26 Hail: INFO: Running LD prune with nSamples=697, nVariants=1946800, nPartitions=120, and maxQueueSize=298262.\n",
      "2017-11-30 03:52:29 Hail: INFO: LD prune step 1 of 3: nVariantsKept=437671, nPartitions=120, time=2m3.4s\n",
      "2017-11-30 04:01:51 Hail: INFO: LD prune step 2 of 3: nVariantsKept=434900, nPartitions=3, time=9m21.8s\n",
      "2017-11-30 04:44:34 Hail: INFO: Coerced sorted dataset\n"
     ]
    }
   ],
   "source": [
    "vds_result = (vds_subset_one_group.variant_qc()\n",
    "              .filter_variants_expr(\"va.qc.AF >= 0.05 && va.qc.AF <= 0.95\")\n",
    "              .ld_prune().repartition(120))"
   ]
  },
  {
   "cell_type": "code",
   "execution_count": 32,
   "metadata": {},
   "outputs": [
    {
     "name": "stdout",
     "output_type": "stream",
     "text": [
      "\n",
      "         Samples: 697\n",
      "        Variants: 434899\n",
      "       Call Rate: 0.940610\n",
      "         Contigs: ['chr22', 'chr19', 'chr15', 'chr18', 'chr20', 'chr21']\n",
      "   Multiallelics: 0\n",
      "            SNPs: 296852\n",
      "            MNPs: 0\n",
      "      Insertions: 71073\n",
      "       Deletions: 66974\n",
      " Complex Alleles: 0\n",
      "    Star Alleles: 0\n",
      "     Max Alleles: 2\n"
     ]
    }
   ],
   "source": [
    "vds_result.summarize().report()"
   ]
  },
  {
   "cell_type": "markdown",
   "metadata": {},
   "source": [
    "## Running PCA on Freeze 5b Genotypes"
   ]
  },
  {
   "cell_type": "code",
   "execution_count": 33,
   "metadata": {
    "scrolled": true
   },
   "outputs": [
    {
     "name": "stderr",
     "output_type": "stream",
     "text": [
      "2017-11-30 05:48:10 Hail: INFO: Running PCA with 5 components...\n"
     ]
    }
   ],
   "source": [
    "# do pca\n",
    "pca = vds_result.pca('sa.pca', k=5, eigenvalues='global.eigen')"
   ]
  },
  {
   "cell_type": "code",
   "execution_count": 34,
   "metadata": {},
   "outputs": [],
   "source": [
    "pca_table = pca.samples_table().to_pandas()"
   ]
  },
  {
   "cell_type": "markdown",
   "metadata": {},
   "source": [
    "### Visualize the differences in families within the studies by principle components."
   ]
  },
  {
   "cell_type": "code",
   "execution_count": 35,
   "metadata": {},
   "outputs": [
    {
     "data": {
      "image/png": "[encoded data removed]",
      "text/plain": [
       "<matplotlib.figure.Figure at 0x7f595be00b10>"
      ]
     },
     "metadata": {},
     "output_type": "display_data"
    }
   ],
   "source": [
    "# show the pca results\n",
    "import numpy as np\n",
    "import pandas as pd\n",
    "import matplotlib.pyplot as plt\n",
    "import matplotlib.patches as mpatches\n",
    "from collections import Counter\n",
    "from math import log, isnan\n",
    "from pprint import pprint\n",
    "%matplotlib inline\n",
    "\n",
    "plt.scatter(pca_table[\"sa.pca.PC1\"], pca_table[\"sa.pca.PC2\"])\n",
    "\n",
    "plt.xlim(-0.6, 0.6)\n",
    "plt.xlabel(\"PC1\")\n",
    "plt.ylabel(\"PC2\")\n",
    "plt.show()"
   ]
  },
  {
   "cell_type": "code",
   "execution_count": 36,
   "metadata": {},
   "outputs": [
    {
     "data": {
      "image/png": "[encoded data removed]",
      "text/plain": [
       "<matplotlib.figure.Figure at 0x7f5950ba7d10>"
      ]
     },
     "metadata": {},
     "output_type": "display_data"
    }
   ],
   "source": [
    "# show the pca results\n",
    "import numpy as np\n",
    "import pandas as pd\n",
    "import matplotlib.pyplot as plt\n",
    "import matplotlib.patches as mpatches\n",
    "from collections import Counter\n",
    "from math import log, isnan\n",
    "from pprint import pprint\n",
    "%matplotlib inline\n",
    "\n",
    "plt.scatter(pca_table[\"sa.pca.PC1\"], pca_table[\"sa.pca.PC3\"])\n",
    "\n",
    "plt.xlim(-0.6, 0.6)\n",
    "plt.xlabel(\"PC1\")\n",
    "plt.ylabel(\"PC3\")\n",
    "plt.show()"
   ]
  },
  {
   "cell_type": "code",
   "execution_count": 37,
   "metadata": {},
   "outputs": [
    {
     "data": {
      "image/png": "[encoded data removed]",
      "text/plain": [
       "<matplotlib.figure.Figure at 0x7f59507885d0>"
      ]
     },
     "metadata": {},
     "output_type": "display_data"
    }
   ],
   "source": [
    "# show the pca results\n",
    "import numpy as np\n",
    "import pandas as pd\n",
    "import matplotlib.pyplot as plt\n",
    "import matplotlib.patches as mpatches\n",
    "from collections import Counter\n",
    "from math import log, isnan\n",
    "from pprint import pprint\n",
    "%matplotlib inline\n",
    "\n",
    "plt.scatter(pca_table[\"sa.pca.PC1\"], pca_table[\"sa.pca.PC4\"])\n",
    "\n",
    "plt.xlim(-0.6, 0.6)\n",
    "plt.xlabel(\"PC1\")\n",
    "plt.ylabel(\"PC4\")\n",
    "plt.show()"
   ]
  }
 ],
 "metadata": {
  "kernelspec": {
   "display_name": "Python 2",
   "language": "python",
   "name": "python2"
  },
  "language_info": {
   "codemirror_mode": {
    "name": "ipython",
    "version": 2
   },
   "file_extension": ".py",
   "mimetype": "text/x-python",
   "name": "python",
   "nbconvert_exporter": "python",
   "pygments_lexer": "ipython2",
   "version": "2.7.9"
  }
 },
 "nbformat": 4,
 "nbformat_minor": 2
}
