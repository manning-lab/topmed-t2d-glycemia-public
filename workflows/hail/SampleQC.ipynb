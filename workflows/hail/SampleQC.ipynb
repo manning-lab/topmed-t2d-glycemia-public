{
 "cells": [
  {
   "cell_type": "code",
   "execution_count": 1,
   "metadata": {},
   "outputs": [],
   "source": [
    "from firecloud import fiss\n",
    "import pandas as pd\n",
    "pd.set_option('display.max_row', 10000)\n",
    "import io\n",
    "import numpy as np\n",
    "from pprint import pprint"
   ]
  },
  {
   "cell_type": "code",
   "execution_count": 2,
   "metadata": {},
   "outputs": [
    {
     "name": "stdout",
     "output_type": "stream",
     "text": [
      "[u'acl']\n"
     ]
    }
   ],
   "source": [
    "control = fiss.fapi.get_workspace_acl(\"topmed-shared\", \"topmed-shared\").json()#['acl']\n",
    "print control.keys()"
   ]
  },
  {
   "cell_type": "code",
   "execution_count": 3,
   "metadata": {},
   "outputs": [
    {
     "name": "stdout",
     "output_type": "stream",
     "text": [
      "sample count: 56436\n",
      "participant count: 56436\n",
      "sample_set count: 2\n"
     ]
    }
   ],
   "source": [
    "ent_types = fiss.fapi.list_entity_types(\"topmed-shared\", \"topmed-shared\").json()\n",
    "for t in ent_types.keys():\n",
    "    print t, \"count:\", ent_types[t]['count']"
   ]
  },
  {
   "cell_type": "code",
   "execution_count": 4,
   "metadata": {},
   "outputs": [
    {
     "name": "stdout",
     "output_type": "stream",
     "text": [
      "Included studies(# participants):\n",
      "Partners(111)\n",
      "EOCOPD(66)\n",
      "SAGE(452)\n",
      "JHS(3136)\n",
      "CRA(1043)\n",
      "GenSalt(1695)\n",
      "FHS(3758)\n",
      "GALAII(914)\n",
      "ARIC(3616)\n",
      "Mayo(1251)\n",
      "GeneSTAR(1639)\n",
      "WHI(10047)\n",
      "VU_AF(1024)\n",
      "THRV(1937)\n",
      "COPDGene(8742)\n",
      "WGHS(99)\n",
      "BAGS(968)\n",
      "HyperGEN(1662)\n",
      "GOLDN(904)\n",
      "SAS(1208)\n",
      "CHS(70)\n",
      "MESA(4880)\n",
      "GENOA(1144)\n",
      "DHS(339)\n",
      "SAFS(1509)\n",
      "CCAF(327)\n",
      "HVH(66)\n",
      "Amish(1030)\n",
      "Sarcoidosis(608)\n",
      "VAFAR(111)\n",
      "NA(432)\n",
      "MGH_AF(725)\n",
      "CFS(923)\n"
     ]
    }
   ],
   "source": [
    "samples = fiss.fapi.get_entities(\"topmed-shared\",\"topmed-shared\", \"sample\").json()\n",
    "sample_tups = [(samples[i]['attributes']['participant']['entityName'],samples[i]['attributes']['study']) for i in xrange(0,len(samples))]\n",
    "pid_to_study = dict()\n",
    "for e in sample_tups:\n",
    "    pid_to_study.setdefault(e[1], []).append(e[0])\n",
    "\n",
    "    num_dict = {d:len(pid_to_study[d]) for d in pid_to_study}\n",
    "print 'Included studies(# participants):\\n', '\\n'.join([d+'('+str(num_dict[d])+')' for d in num_dict])"
   ]
  },
  {
   "cell_type": "code",
   "execution_count": 6,
   "metadata": {},
   "outputs": [
    {
     "name": "stderr",
     "output_type": "stream",
     "text": [
      "Running on Apache Spark version 2.0.2\n",
      "SparkUI available at http://10.128.0.13:4040\n",
      "Welcome to\n",
      "     __  __     <>__\n",
      "    / /_/ /__  __/ /\n",
      "   / __  / _ `/ / /\n",
      "  /_/ /_/\\_,_/_/_/   version 0.1-6f85985\n"
     ]
    }
   ],
   "source": [
    "## start hail context\n",
    "from hail import *\n",
    "hc = HailContext(sc)"
   ]
  },
  {
   "cell_type": "code",
   "execution_count": 7,
   "metadata": {},
   "outputs": [
    {
     "name": "stdout",
     "output_type": "stream",
     "text": [
      "Sample set name: freeze5b_minDP10\n",
      "Sample set fields: wgsa_subset, gds, vcf, bcf, tbi, cov_grm, samples, wgsa_raw, cor_grm\n",
      "# of vcf files: 23\n"
     ]
    }
   ],
   "source": [
    "samples_sets = fiss.fapi.get_entities('topmed-shared','topmed-shared', 'sample_set').json()\n",
    "print 'Sample set name:', samples_sets[0]['name']\n",
    "print 'Sample set fields:', ', '.join(samples_sets[0]['attributes'].keys())\n",
    "vcf_files = samples_sets[0]['attributes']['vcf']['items']\n",
    "print '# of vcf files:', len(vcf_files)"
   ]
  },
  {
   "cell_type": "code",
   "execution_count": 11,
   "metadata": {},
   "outputs": [
    {
     "name": "stdout",
     "output_type": "stream",
     "text": [
      "[u'gs://fc-adaae650-a458-4c56-8a55-d96fa463a5c6/25c6cc4a-9d07-49bc-a548-9166f7a5f5ad/w/e111b73f-4bff-4079-8c73-f9951d8dcb7a/call-runVcf/shard-1/freeze.5b.chr10.pass_and_fail.gtonly.minDP10.vcf.bgz']\n"
     ]
    }
   ],
   "source": [
    "print vcf_files[1:2]"
   ]
  },
  {
   "cell_type": "code",
   "execution_count": 13,
   "metadata": {},
   "outputs": [
    {
     "name": "stderr",
     "output_type": "stream",
     "text": [
      "2017-11-22 22:00:15 Hail: INFO: No multiallelics detected.\n",
      "2017-11-22 22:00:16 Hail: INFO: Coerced sorted dataset\n",
      "2017-11-22 22:00:16 Hail: WARN: called redundant split on an already split VDS\n"
     ]
    }
   ],
   "source": [
    "vds = hc.import_vcf(vcf_files[1:2],min_partitions = 1000).split_multi()"
   ]
  },
  {
   "cell_type": "code",
   "execution_count": null,
   "metadata": {},
   "outputs": [],
   "source": [
    " vds.write(\"gs://fc-adaae650-a458-4c56-8a55-d96fa463a5c6/vds_topmed/freeze.5b.chr10.pass_and_fail.gtonly.minDP10.vds\")"
   ]
  },
  {
   "cell_type": "code",
   "execution_count": null,
   "metadata": {},
   "outputs": [],
   "source": [
    "vds = hc.read(\"gs://fc-adaae650-a458-4c56-8a55-d96fa463a5c6/vds_topmed/freeze.5b.chr10.pass_and_fail.gtonly.minDP10.vds\")"
   ]
  },
  {
   "cell_type": "code",
   "execution_count": 8,
   "metadata": {},
   "outputs": [
    {
     "name": "stdout",
     "output_type": "stream",
     "text": [
      "<class 'pandas.core.frame.DataFrame'>\n",
      "Int64Index: 56436 entries, 0 to 56435\n",
      "Data columns (total 5 columns):\n",
      "ent_sample_id     56436 non-null object\n",
      "sample_id         56436 non-null object\n",
      "CENTER            56436 non-null object\n",
      "study             56436 non-null object\n",
      "topmed_project    56436 non-null object\n",
      "dtypes: object(5)"
     ]
    },
    {
     "ename": "NameError",
     "evalue": "name 'vds' is not defined",
     "output_type": "error",
     "traceback": [
      "\u001b[0;31m\u001b[0m",
      "\u001b[0;31mNameError\u001b[0mTraceback (most recent call last)",
      "\u001b[0;32m<ipython-input-8-1c2e249f9f0d>\u001b[0m in \u001b[0;36m<module>\u001b[0;34m()\u001b[0m\n\u001b[1;32m      9\u001b[0m \u001b[0mspark_df\u001b[0m \u001b[0;34m=\u001b[0m \u001b[0msqlctx\u001b[0m\u001b[0;34m.\u001b[0m\u001b[0mcreateDataFrame\u001b[0m\u001b[0;34m(\u001b[0m\u001b[0mdata_model_text\u001b[0m\u001b[0;34m)\u001b[0m\u001b[0;34m\u001b[0m\u001b[0m\n\u001b[1;32m     10\u001b[0m \u001b[0mkt\u001b[0m \u001b[0;34m=\u001b[0m \u001b[0mKeyTable\u001b[0m\u001b[0;34m.\u001b[0m\u001b[0mfrom_dataframe\u001b[0m\u001b[0;34m(\u001b[0m\u001b[0mspark_df\u001b[0m\u001b[0;34m,\u001b[0m\u001b[0mkey\u001b[0m\u001b[0;34m=\u001b[0m\u001b[0;34m'sample_id'\u001b[0m\u001b[0;34m)\u001b[0m\u001b[0;34m\u001b[0m\u001b[0m\n\u001b[0;32m---> 11\u001b[0;31m \u001b[0mvds\u001b[0m \u001b[0;34m=\u001b[0m \u001b[0mvds\u001b[0m\u001b[0;34m.\u001b[0m\u001b[0mannotate_samples_table\u001b[0m\u001b[0;34m(\u001b[0m\u001b[0mkt\u001b[0m\u001b[0;34m,\u001b[0m \u001b[0mroot\u001b[0m\u001b[0;34m=\u001b[0m\u001b[0;34m'sa'\u001b[0m\u001b[0;34m)\u001b[0m\u001b[0;34m\u001b[0m\u001b[0m\n\u001b[0m\u001b[1;32m     12\u001b[0m \u001b[0;34m\u001b[0m\u001b[0m\n\u001b[1;32m     13\u001b[0m \u001b[0mdata_model_text\u001b[0m\u001b[0;34m.\u001b[0m\u001b[0mhead\u001b[0m\u001b[0;34m(\u001b[0m\u001b[0;34m)\u001b[0m\u001b[0;34m\u001b[0m\u001b[0m\n",
      "\u001b[0;31mNameError\u001b[0m: name 'vds' is not defined"
     ]
    }
   ],
   "source": [
    "data_model = fiss.fapi.get_entities_tsv(\"topmed-shared\",\"topmed-shared\", \"sample\")\n",
    "data_model_text = pd.read_csv(io.StringIO(data_model.text), sep='\\t')[['entity:sample_id','participant','CENTER','study','topmed_project']]\n",
    "data_model_text.rename(columns = {'entity:sample_id':'ent_sample_id', 'participant':'sample_id'}, inplace = True)\n",
    "data_model_text[['study', 'topmed_project']] = data_model_text[['study', 'topmed_project']].astype(str)\n",
    "data_model_text.info()\n",
    "\n",
    "from pyspark.sql import SQLContext\n",
    "sqlctx = SQLContext(hc.sc)\n",
    "spark_df = sqlctx.createDataFrame(data_model_text)\n",
    "kt = KeyTable.from_dataframe(spark_df,key='sample_id') \n",
    "vds = vds.annotate_samples_table(kt, root='sa')\n",
    "\n",
    "data_model_text.head()"
   ]
  },
  {
   "cell_type": "code",
   "execution_count": null,
   "metadata": {},
   "outputs": [],
   "source": []
  },
  {
   "cell_type": "code",
   "execution_count": null,
   "metadata": {},
   "outputs": [],
   "source": []
  }
 ],
 "metadata": {
  "kernelspec": {
   "display_name": "Python 2",
   "language": "python",
   "name": "python2"
  },
  "language_info": {
   "codemirror_mode": {
    "name": "ipython",
    "version": 2
   },
   "file_extension": ".py",
   "mimetype": "text/x-python",
   "name": "python",
   "nbconvert_exporter": "python",
   "pygments_lexer": "ipython2",
   "version": "2.7.9"
  }
 },
 "nbformat": 4,
 "nbformat_minor": 2
}
