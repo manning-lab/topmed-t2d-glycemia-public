{
 "cells": [
  {
   "cell_type": "code",
   "execution_count": 1,
   "metadata": {},
   "outputs": [],
   "source": [
    "from firecloud import fiss\n",
    "import pandas as pd\n",
    "pd.set_option('display.max_row', 10000)\n",
    "import io\n",
    "import numpy as np\n",
    "from pprint import pprint"
   ]
  },
  {
   "cell_type": "code",
   "execution_count": null,
   "metadata": {},
   "outputs": [],
   "source": []
  },
  {
   "cell_type": "code",
   "execution_count": 2,
   "metadata": {},
   "outputs": [
    {
     "name": "stderr",
     "output_type": "stream",
     "text": [
      "Running on Apache Spark version 2.0.2\n",
      "SparkUI available at http://10.128.0.4:4040\n",
      "Welcome to\n",
      "     __  __     <>__\n",
      "    / /_/ /__  __/ /\n",
      "   / __  / _ `/ / /\n",
      "  /_/ /_/\\_,_/_/_/   version 0.1-6f85985\n"
     ]
    }
   ],
   "source": [
    "## start hail context\n",
    "from hail import *\n",
    "hc = HailContext(sc)"
   ]
  },
  {
   "cell_type": "code",
   "execution_count": 3,
   "metadata": {},
   "outputs": [
    {
     "name": "stdout",
     "output_type": "stream",
     "text": [
      "Sample set name: freeze5b_minDP10\n",
      "Sample set fields: wgsa_subset, gds, vcf, bcf, tbi, cov_grm, samples, wgsa_raw, cor_grm\n"
     ]
    }
   ],
   "source": [
    "samples_sets = fiss.fapi.get_entities('topmed-shared','topmed-shared', 'sample_set').json()\n",
    "print 'Sample set name:', samples_sets[0]['name']\n",
    "print 'Sample set fields:', ', '.join(samples_sets[0]['attributes'].keys())\n"
   ]
  },
  {
   "cell_type": "code",
   "execution_count": 9,
   "metadata": {},
   "outputs": [],
   "source": [
    "#https://portal.firecloud.org/#workspaces/topmed-shared/topmed-shared/monitor/121627f8-4a22-475e-9ce3-16214a2607dc/475a4382-ad55-48f4-9e13-ce5436d472a4\n",
    "# TOPMed JHS subset\n",
    "vcf_files = [\"gs://fc-adaae650-a458-4c56-8a55-d96fa463a5c6/121627f8-4a22-475e-9ce3-16214a2607dc/w/475a4382-ad55-48f4-9e13-ce5436d472a4/call-subset/shard-13/JHS.vcf.bgz\",\n",
    "            \"gs://fc-adaae650-a458-4c56-8a55-d96fa463a5c6/121627f8-4a22-475e-9ce3-16214a2607dc/w/475a4382-ad55-48f4-9e13-ce5436d472a4/call-subset/shard-14/JHS.vcf.bgz\"]\n"
   ]
  },
  {
   "cell_type": "markdown",
   "metadata": {},
   "source": [
    "For analysis, we will want to combine genotype data in several different ways -- and these will be specific to each working group. One of the first operations will be to subset the data to a set of cohorts in the T2D analysis."
   ]
  },
  {
   "cell_type": "code",
   "execution_count": 4,
   "metadata": {},
   "outputs": [
    {
     "name": "stdout",
     "output_type": "stream",
     "text": [
      "<class 'pandas.core.frame.DataFrame'>\n",
      "Int64Index: 56436 entries, 0 to 56435\n",
      "Data columns (total 6 columns):\n",
      "ent_sample_id     56436 non-null object\n",
      "sample_id         56436 non-null object\n",
      "CENTER            56436 non-null object\n",
      "study             56436 non-null object\n",
      "topmed_project    56436 non-null object\n",
      "consent           56436 non-null object\n",
      "dtypes: object(6)"
     ]
    }
   ],
   "source": [
    "data_model = fiss.fapi.get_entities_tsv(\"topmed-shared\",\"topmed-shared\", \"sample\")\n",
    "data_model_text = pd.read_csv(io.StringIO(data_model.text), sep='\\t')[['entity:sample_id','participant','CENTER','study','topmed_project','consent']]\n",
    "data_model_text.rename(columns = {'entity:sample_id':'ent_sample_id', 'participant':'sample_id'}, inplace = True)\n",
    "data_model_text[['study', 'topmed_project','consent']] = data_model_text[['study', 'topmed_project','consent']].astype(str)\n",
    "data_model_text.info()"
   ]
  },
  {
   "cell_type": "markdown",
   "metadata": {},
   "source": [
    "Taking a look at the top of this data frame:"
   ]
  },
  {
   "cell_type": "code",
   "execution_count": 5,
   "metadata": {},
   "outputs": [
    {
     "data": {
      "text/html": [
       "<div style=\"max-height:1000px;max-width:1500px;overflow:auto;\">\n",
       "<table border=\"1\" class=\"dataframe\">\n",
       "  <thead>\n",
       "    <tr style=\"text-align: right;\">\n",
       "      <th></th>\n",
       "      <th>ent_sample_id</th>\n",
       "      <th>sample_id</th>\n",
       "      <th>CENTER</th>\n",
       "      <th>study</th>\n",
       "      <th>topmed_project</th>\n",
       "      <th>consent</th>\n",
       "    </tr>\n",
       "  </thead>\n",
       "  <tbody>\n",
       "    <tr>\n",
       "      <th>0</th>\n",
       "      <td> freeze5a_NWD100014</td>\n",
       "      <td> NWD100014</td>\n",
       "      <td>       uw</td>\n",
       "      <td>      JHS</td>\n",
       "      <td>      JHS</td>\n",
       "      <td>        HMB-IRB-NPU</td>\n",
       "    </tr>\n",
       "    <tr>\n",
       "      <th>1</th>\n",
       "      <td> freeze5a_NWD100018</td>\n",
       "      <td> NWD100018</td>\n",
       "      <td>    broad</td>\n",
       "      <td> COPDGene</td>\n",
       "      <td>     COPD</td>\n",
       "      <td>                HMB</td>\n",
       "    </tr>\n",
       "    <tr>\n",
       "      <th>2</th>\n",
       "      <td> freeze5a_NWD100027</td>\n",
       "      <td> NWD100027</td>\n",
       "      <td> macrogen</td>\n",
       "      <td> GeneSTAR</td>\n",
       "      <td> GeneSTAR</td>\n",
       "      <td> DS-CVD-IRB-NPU-MDS</td>\n",
       "    </tr>\n",
       "    <tr>\n",
       "      <th>3</th>\n",
       "      <td> freeze5a_NWD100047</td>\n",
       "      <td> NWD100047</td>\n",
       "      <td>       uw</td>\n",
       "      <td>   EOCOPD</td>\n",
       "      <td>     COPD</td>\n",
       "      <td>           DS-CS-RD</td>\n",
       "    </tr>\n",
       "    <tr>\n",
       "      <th>4</th>\n",
       "      <td> freeze5a_NWD100048</td>\n",
       "      <td> NWD100048</td>\n",
       "      <td>    broad</td>\n",
       "      <td>    VU_AF</td>\n",
       "      <td>    AFGen</td>\n",
       "      <td>            GRU-IRB</td>\n",
       "    </tr>\n",
       "  </tbody>\n",
       "</table>\n",
       "</div>"
      ],
      "text/plain": [
       "        ent_sample_id  sample_id    CENTER     study topmed_project  \\\n",
       "0  freeze5a_NWD100014  NWD100014        uw       JHS            JHS   \n",
       "1  freeze5a_NWD100018  NWD100018     broad  COPDGene           COPD   \n",
       "2  freeze5a_NWD100027  NWD100027  macrogen  GeneSTAR       GeneSTAR   \n",
       "3  freeze5a_NWD100047  NWD100047        uw    EOCOPD           COPD   \n",
       "4  freeze5a_NWD100048  NWD100048     broad     VU_AF          AFGen   \n",
       "\n",
       "              consent  \n",
       "0         HMB-IRB-NPU  \n",
       "1                 HMB  \n",
       "2  DS-CVD-IRB-NPU-MDS  \n",
       "3            DS-CS-RD  \n",
       "4             GRU-IRB  "
      ]
     },
     "execution_count": 5,
     "metadata": {},
     "output_type": "execute_result"
    }
   ],
   "source": [
    "data_model_text.head()"
   ]
  },
  {
   "cell_type": "markdown",
   "metadata": {},
   "source": [
    "We are going to loop through each chromosome, and create vds subsets per cohort/consent group."
   ]
  },
  {
   "cell_type": "code",
   "execution_count": 7,
   "metadata": {},
   "outputs": [
    {
     "name": "stdout",
     "output_type": "stream",
     "text": [
      "gs://fc-adaae650-a458-4c56-8a55-d96fa463a5c6/121627f8-4a22-475e-9ce3-16214a2607dc/w/475a4382-ad55-48f4-9e13-ce5436d472a4/call-subset/shard-13/JHS.vcf.bgz\n",
      "JHS\n"
     ]
    }
   ],
   "source": [
    "i = 1\n",
    "\n",
    "vcf_file = vcf_files[i]\n",
    "print vcf_file\n",
    "\n",
    "label = vcf_file.split('/')[-1]\n",
    "label = \".\".join(label.split('.')[:-2])\n",
    "print label"
   ]
  },
  {
   "cell_type": "code",
   "execution_count": 10,
   "metadata": {},
   "outputs": [
    {
     "name": "stderr",
     "output_type": "stream",
     "text": [
      "2017-11-29 15:46:49 Hail: INFO: No multiallelics detected.\n",
      "2017-11-29 15:46:49 Hail: INFO: Coerced sorted dataset\n",
      "2017-11-29 15:46:50 Hail: WARN: called redundant split on an already split VDS\n"
     ]
    }
   ],
   "source": [
    "vds = hc.import_vcf(vcf_files,min_partitions = 120).split_multi()"
   ]
  },
  {
   "cell_type": "code",
   "execution_count": 30,
   "metadata": {},
   "outputs": [
    {
     "name": "stdout",
     "output_type": "stream",
     "text": [
      "\n",
      "         Samples: 697\n",
      "        Variants: 7762483\n",
      "       Call Rate: 0.991701\n",
      "         Contigs: ['chr21']\n",
      "   Multiallelics: 0\n",
      "            SNPs: 6949524\n",
      "            MNPs: 0\n",
      "      Insertions: 287547\n",
      "       Deletions: 525412\n",
      " Complex Alleles: 0\n",
      "    Star Alleles: 0\n",
      "     Max Alleles: 2\n"
     ]
    }
   ],
   "source": [
    "vds.summarize().report()"
   ]
  },
  {
   "cell_type": "markdown",
   "metadata": {},
   "source": [
    "Annotate the samples"
   ]
  },
  {
   "cell_type": "code",
   "execution_count": 11,
   "metadata": {},
   "outputs": [],
   "source": [
    "from pyspark.sql import SQLContext\n",
    "sqlctx = SQLContext(hc.sc)\n",
    "spark_df = sqlctx.createDataFrame(data_model_text)\n",
    "kt = KeyTable.from_dataframe(spark_df,key='sample_id') \n",
    "vds = vds.annotate_samples_table(kt, root='sa')"
   ]
  },
  {
   "cell_type": "markdown",
   "metadata": {},
   "source": [
    "Extract samples for each sample/consent combination, excluding the consent=\"NA\""
   ]
  },
  {
   "cell_type": "code",
   "execution_count": 12,
   "metadata": {},
   "outputs": [],
   "source": [
    "data_model_text['cohort_consent'] = data_model_text['study'].map(str) + \".\" + data_model_text['consent']"
   ]
  },
  {
   "cell_type": "code",
   "execution_count": 13,
   "metadata": {},
   "outputs": [
    {
     "name": "stdout",
     "output_type": "stream",
     "text": [
      "['JHS.HMB-IRB-NPU' 'COPDGene.HMB' 'GeneSTAR.DS-CVD-IRB-NPU-MDS'\n",
      " 'EOCOPD.DS-CS-RD' 'VU_AF.GRU-IRB' 'WHI.HMB-IRB' 'CFS.DS-HLBS-IRB-NPU'\n",
      " 'FHS.HMB-IRB-MDS' 'HyperGEN.GRU-IRB' 'CCAF.GRU-IRB' 'ARIC.HMB-IRB'\n",
      " 'THRV.DS-CVD-IRB-COL-NPU-RD' 'GENOA.DS-ASC-RF-NPU' 'GenSalt.GRU-IRB'\n",
      " 'SAFS.nan' 'MESA.HMB' 'BAGS.GRU-IRB' 'GOLDN.DS-CVD-IRB'\n",
      " 'SAS.GRU-IRB-PUB-COL-NPU-GSO' 'CRA.DS-ASTHMA-IRB-MDS-RD' 'WHI.HMB-IRB-NPU'\n",
      " 'JHS.HMB-IRB' 'GALAII.DS-LD-RD' 'THRV.nan' 'Mayo.GRU'\n",
      " 'FHS.HMB-IRB-NPU-MDS' 'COPDGene.DS-CS-RD' 'SAGE.DS-LD'\n",
      " 'JHS.DS-FDO-IRB-NPU' 'DHS.HMB-IRB-COL-NPU' 'Sarcoidosis.DS-SAR-IRB'\n",
      " 'JHS.DS-FDO-IRB' 'MESA.nan' 'ARIC.nan' 'MGH_AF.DS-AF-IRB-RD'\n",
      " 'Amish.HMB-IRB-MDS' 'WGHS.HMB-IRB' 'Partners.HMB' 'MGH_AF.HMB-IRB'\n",
      " 'nan.nan' 'HyperGEN.DS-CVD-IRB-RD' 'VAFAR.nan' 'VAFAR.HMB-IRB'\n",
      " 'HVH.HMB-IRB-MDS' 'CHS.HMB-NPU-MDS' 'nan.NRUP' 'BAGS.nan' 'Amish.nan'\n",
      " 'JHS.nan' 'CFS.nan' 'FHS.nan' 'VU_AF.nan' 'DHS.DS-DHD-IRB-COL-NPU'\n",
      " 'SAGE.nan' 'GALAII.nan' 'HyperGEN.nan' 'CRA.nan' 'HVH.DS-CVD-IRB-MDS'\n",
      " 'WGHS.nan']\n"
     ]
    }
   ],
   "source": [
    "cohort_consents = data_model_text['cohort_consent'].unique()\n",
    "print cohort_consents"
   ]
  },
  {
   "cell_type": "code",
   "execution_count": 14,
   "metadata": {},
   "outputs": [
    {
     "data": {
      "text/plain": [
       "0                 JHS.HMB-IRB-NPU\n",
       "1                    COPDGene.HMB\n",
       "2     GeneSTAR.DS-CVD-IRB-NPU-MDS\n",
       "3                 EOCOPD.DS-CS-RD\n",
       "4                   VU_AF.GRU-IRB\n",
       "5                   VU_AF.GRU-IRB\n",
       "6                    COPDGene.HMB\n",
       "7                     WHI.HMB-IRB\n",
       "8             CFS.DS-HLBS-IRB-NPU\n",
       "9                    COPDGene.HMB\n",
       "10                FHS.HMB-IRB-MDS\n",
       "11               HyperGEN.GRU-IRB\n",
       "12    GeneSTAR.DS-CVD-IRB-NPU-MDS\n",
       "13                   CCAF.GRU-IRB\n",
       "14                   ARIC.HMB-IRB\n",
       "...\n",
       "56421               WHI.HMB-IRB-NPU\n",
       "56422                  COPDGene.HMB\n",
       "56423                  COPDGene.HMB\n",
       "56424                  COPDGene.HMB\n",
       "56425                   WHI.HMB-IRB\n",
       "56426                 VU_AF.GRU-IRB\n",
       "56427                      SAFS.nan\n",
       "56428    THRV.DS-CVD-IRB-COL-NPU-RD\n",
       "56429               WHI.HMB-IRB-NPU\n",
       "56430                  COPDGene.HMB\n",
       "56431      CRA.DS-ASTHMA-IRB-MDS-RD\n",
       "56432                 VU_AF.GRU-IRB\n",
       "56433                  COPDGene.HMB\n",
       "56434                      Mayo.GRU\n",
       "56435                  COPDGene.HMB\n",
       "Name: cohort_consent, Length: 56436, dtype: object"
      ]
     },
     "execution_count": 14,
     "metadata": {},
     "output_type": "execute_result"
    }
   ],
   "source": [
    "data_model_text['cohort_consent']"
   ]
  },
  {
   "cell_type": "code",
   "execution_count": 15,
   "metadata": {},
   "outputs": [],
   "source": [
    "cohorts_for_t2d = ['JHS.HMB-IRB-NPU','JHS.HMB-IRB','JHS.DS-FDO-IRB-NPU','JHS.DS-FDO-IRB', \n",
    "                   'FHS.HMB-IRB-MDS','FHS.HMB-IRB-NPU-MDS', 'MESA.HMB']\n",
    "data_model_text['t2d_analysis'] = [1 if x in cohorts_for_t2d else 0 for x in data_model_text['cohort_consent']]"
   ]
  },
  {
   "cell_type": "code",
   "execution_count": 16,
   "metadata": {},
   "outputs": [
    {
     "data": {
      "text/html": [
       "<div style=\"max-height:1000px;max-width:1500px;overflow:auto;\">\n",
       "<table border=\"1\" class=\"dataframe\">\n",
       "  <thead>\n",
       "    <tr style=\"text-align: right;\">\n",
       "      <th></th>\n",
       "      <th>ent_sample_id</th>\n",
       "      <th>sample_id</th>\n",
       "      <th>CENTER</th>\n",
       "      <th>study</th>\n",
       "      <th>topmed_project</th>\n",
       "      <th>consent</th>\n",
       "      <th>cohort_consent</th>\n",
       "      <th>t2d_analysis</th>\n",
       "    </tr>\n",
       "  </thead>\n",
       "  <tbody>\n",
       "    <tr>\n",
       "      <th>0</th>\n",
       "      <td> freeze5a_NWD100014</td>\n",
       "      <td> NWD100014</td>\n",
       "      <td>       uw</td>\n",
       "      <td>      JHS</td>\n",
       "      <td>      JHS</td>\n",
       "      <td>        HMB-IRB-NPU</td>\n",
       "      <td>             JHS.HMB-IRB-NPU</td>\n",
       "      <td> 1</td>\n",
       "    </tr>\n",
       "    <tr>\n",
       "      <th>1</th>\n",
       "      <td> freeze5a_NWD100018</td>\n",
       "      <td> NWD100018</td>\n",
       "      <td>    broad</td>\n",
       "      <td> COPDGene</td>\n",
       "      <td>     COPD</td>\n",
       "      <td>                HMB</td>\n",
       "      <td>                COPDGene.HMB</td>\n",
       "      <td> 0</td>\n",
       "    </tr>\n",
       "    <tr>\n",
       "      <th>2</th>\n",
       "      <td> freeze5a_NWD100027</td>\n",
       "      <td> NWD100027</td>\n",
       "      <td> macrogen</td>\n",
       "      <td> GeneSTAR</td>\n",
       "      <td> GeneSTAR</td>\n",
       "      <td> DS-CVD-IRB-NPU-MDS</td>\n",
       "      <td> GeneSTAR.DS-CVD-IRB-NPU-MDS</td>\n",
       "      <td> 0</td>\n",
       "    </tr>\n",
       "    <tr>\n",
       "      <th>3</th>\n",
       "      <td> freeze5a_NWD100047</td>\n",
       "      <td> NWD100047</td>\n",
       "      <td>       uw</td>\n",
       "      <td>   EOCOPD</td>\n",
       "      <td>     COPD</td>\n",
       "      <td>           DS-CS-RD</td>\n",
       "      <td>             EOCOPD.DS-CS-RD</td>\n",
       "      <td> 0</td>\n",
       "    </tr>\n",
       "    <tr>\n",
       "      <th>4</th>\n",
       "      <td> freeze5a_NWD100048</td>\n",
       "      <td> NWD100048</td>\n",
       "      <td>    broad</td>\n",
       "      <td>    VU_AF</td>\n",
       "      <td>    AFGen</td>\n",
       "      <td>            GRU-IRB</td>\n",
       "      <td>               VU_AF.GRU-IRB</td>\n",
       "      <td> 0</td>\n",
       "    </tr>\n",
       "  </tbody>\n",
       "</table>\n",
       "</div>"
      ],
      "text/plain": [
       "        ent_sample_id  sample_id    CENTER     study topmed_project  \\\n",
       "0  freeze5a_NWD100014  NWD100014        uw       JHS            JHS   \n",
       "1  freeze5a_NWD100018  NWD100018     broad  COPDGene           COPD   \n",
       "2  freeze5a_NWD100027  NWD100027  macrogen  GeneSTAR       GeneSTAR   \n",
       "3  freeze5a_NWD100047  NWD100047        uw    EOCOPD           COPD   \n",
       "4  freeze5a_NWD100048  NWD100048     broad     VU_AF          AFGen   \n",
       "\n",
       "              consent               cohort_consent  t2d_analysis  \n",
       "0         HMB-IRB-NPU              JHS.HMB-IRB-NPU             1  \n",
       "1                 HMB                 COPDGene.HMB             0  \n",
       "2  DS-CVD-IRB-NPU-MDS  GeneSTAR.DS-CVD-IRB-NPU-MDS             0  \n",
       "3            DS-CS-RD              EOCOPD.DS-CS-RD             0  \n",
       "4             GRU-IRB                VU_AF.GRU-IRB             0  "
      ]
     },
     "execution_count": 16,
     "metadata": {},
     "output_type": "execute_result"
    }
   ],
   "source": [
    "data_model_text.head()"
   ]
  },
  {
   "cell_type": "code",
   "execution_count": 17,
   "metadata": {},
   "outputs": [],
   "source": [
    "consent_grouped = data_model_text.groupby('t2d_analysis')"
   ]
  },
  {
   "cell_type": "code",
   "execution_count": 18,
   "metadata": {},
   "outputs": [],
   "source": [
    "one_group = consent_grouped.get_group(1)"
   ]
  },
  {
   "cell_type": "code",
   "execution_count": 19,
   "metadata": {},
   "outputs": [
    {
     "data": {
      "text/plain": [
       "count         11696\n",
       "unique        11696\n",
       "top       NWD542901\n",
       "freq              1\n",
       "dtype: object"
      ]
     },
     "execution_count": 19,
     "metadata": {},
     "output_type": "execute_result"
    }
   ],
   "source": [
    "one_group[\"sample_id\"].describe()"
   ]
  },
  {
   "cell_type": "code",
   "execution_count": 20,
   "metadata": {},
   "outputs": [
    {
     "data": {
      "text/plain": [
       "array(['NWD100014', 'NWD100130', 'NWD100343', ..., 'NWD999511',\n",
       "       'NWD999550', 'NWD999746'], dtype=object)"
      ]
     },
     "execution_count": 20,
     "metadata": {},
     "output_type": "execute_result"
    }
   ],
   "source": [
    "one_group[\"sample_id\"].values"
   ]
  },
  {
   "cell_type": "code",
   "execution_count": 21,
   "metadata": {},
   "outputs": [],
   "source": [
    "vds_subset_one_group = vds.filter_samples_list(list(one_group[\"sample_id\"].values), keep=True)"
   ]
  },
  {
   "cell_type": "code",
   "execution_count": 79,
   "metadata": {},
   "outputs": [
    {
     "data": {
      "text/plain": [
       "Summary(samples=697, variants=7762483, call_rate=0.991701, contigs=['chr21'], multiallelics=0, snps=6949524, mnps=0, insertions=287547, deletions=525412, complex=0, star=0, max_alleles=2)"
      ]
     },
     "execution_count": 79,
     "metadata": {},
     "output_type": "execute_result"
    }
   ],
   "source": [
    "## this takes a very long time\n",
    "#vds_subset_one_group.summarize()"
   ]
  },
  {
   "cell_type": "code",
   "execution_count": 22,
   "metadata": {},
   "outputs": [],
   "source": [
    "vds_subset_one_group = vds_subset_one_group.variant_qc().cache()"
   ]
  },
  {
   "cell_type": "markdown",
   "metadata": {},
   "source": [
    "Filter to variants that have MAC>0 in this sample."
   ]
  },
  {
   "cell_type": "code",
   "execution_count": 24,
   "metadata": {},
   "outputs": [],
   "source": [
    "vds_subset_one_group = vds_subset_one_group.filter_variants_expr('va.qc.AC>0').repartition(120)"
   ]
  },
  {
   "cell_type": "code",
   "execution_count": 25,
   "metadata": {},
   "outputs": [
    {
     "name": "stdout",
     "output_type": "stream",
     "text": [
      "\n",
      "         Samples: 697\n",
      "        Variants: 998802\n",
      "       Call Rate: 0.987041\n",
      "         Contigs: ['chr21']\n",
      "   Multiallelics: 0\n",
      "            SNPs: 838512\n",
      "            MNPs: 0\n",
      "      Insertions: 69990\n",
      "       Deletions: 90300\n",
      " Complex Alleles: 0\n",
      "    Star Alleles: 0\n",
      "     Max Alleles: 2\n"
     ]
    }
   ],
   "source": [
    "vds_subset_one_group.summarize().report()"
   ]
  },
  {
   "cell_type": "markdown",
   "metadata": {},
   "source": [
    "LD prune - make new data set"
   ]
  },
  {
   "cell_type": "code",
   "execution_count": 26,
   "metadata": {},
   "outputs": [
    {
     "name": "stderr",
     "output_type": "stream",
     "text": [
      "2017-11-29 15:52:18 Hail: INFO: Running LD prune with nSamples=697, nVariants=228050, nPartitions=120, and maxQueueSize=298262.\n",
      "2017-11-29 15:52:26 Hail: INFO: LD prune step 1 of 3: nVariantsKept=52587, nPartitions=120, time=7.957s\n",
      "2017-11-29 15:53:21 Hail: INFO: LD prune step 2 of 3: nVariantsKept=50672, nPartitions=3, time=54.929s\n",
      "2017-11-29 15:53:55 Hail: INFO: Coerced sorted dataset\n",
      "2017-11-29 15:54:07 Hail: INFO: LD prune step 3 of 3: nVariantsKept=50563, time=46.248s\n"
     ]
    }
   ],
   "source": [
    "vds_result = (vds_subset_one_group.variant_qc()\n",
    "              .filter_variants_expr(\"va.qc.AF >= 0.05 && va.qc.AF <= 0.95\")\n",
    "              .ld_prune().repartition(120))"
   ]
  },
  {
   "cell_type": "code",
   "execution_count": 31,
   "metadata": {},
   "outputs": [
    {
     "name": "stdout",
     "output_type": "stream",
     "text": [
      "\n",
      "         Samples: 697\n",
      "        Variants: 50563\n",
      "       Call Rate: 0.949005\n",
      "         Contigs: ['chr21']\n",
      "   Multiallelics: 0\n",
      "            SNPs: 35554\n",
      "            MNPs: 0\n",
      "      Insertions: 7616\n",
      "       Deletions: 7393\n",
      " Complex Alleles: 0\n",
      "    Star Alleles: 0\n",
      "     Max Alleles: 2\n"
     ]
    }
   ],
   "source": [
    "vds_result.summarize().report()"
   ]
  },
  {
   "cell_type": "code",
   "execution_count": null,
   "metadata": {},
   "outputs": [],
   "source": []
  },
  {
   "cell_type": "code",
   "execution_count": 28,
   "metadata": {},
   "outputs": [
    {
     "data": {
      "text/plain": [
       "[Variant(contig=chr21, start=36052384, ref=T, alts=[AltAllele(ref=T, alt=TA)]),\n",
       " Variant(contig=chr21, start=36052384, ref=TA, alts=[AltAllele(ref=TA, alt=T)]),\n",
       " Variant(contig=chr21, start=36052384, ref=TAA, alts=[AltAllele(ref=TAA, alt=T)]),\n",
       " Variant(contig=chr21, start=36052384, ref=TAAAAAA, alts=[AltAllele(ref=TAAAAAA, alt=T)]),\n",
       " Variant(contig=chr21, start=36052392, ref=A, alts=[AltAllele(ref=A, alt=T)])]"
      ]
     },
     "execution_count": 28,
     "metadata": {},
     "output_type": "execute_result"
    }
   ],
   "source": [
    "#vds_subset_one_group.query_variants('variants.take(5)')"
   ]
  },
  {
   "cell_type": "code",
   "execution_count": 29,
   "metadata": {},
   "outputs": [
    {
     "data": {
      "text/plain": [
       "[Variant(contig=chr21, start=14387043, ref=C, alts=[AltAllele(ref=C, alt=A)]),\n",
       " Variant(contig=chr21, start=14387043, ref=C, alts=[AltAllele(ref=C, alt=G)]),\n",
       " Variant(contig=chr21, start=14387048, ref=A, alts=[AltAllele(ref=A, alt=G)]),\n",
       " Variant(contig=chr21, start=14387054, ref=G, alts=[AltAllele(ref=G, alt=T)]),\n",
       " Variant(contig=chr21, start=14387059, ref=C, alts=[AltAllele(ref=C, alt=T)])]"
      ]
     },
     "execution_count": 29,
     "metadata": {},
     "output_type": "execute_result"
    }
   ],
   "source": [
    "#vds.query_variants('variants.take(5)')"
   ]
  },
  {
   "cell_type": "code",
   "execution_count": 32,
   "metadata": {},
   "outputs": [
    {
     "data": {
      "text/plain": [
       "[Variant(contig=chr21, start=25775603, ref=C, alts=[AltAllele(ref=C, alt=A)]),\n",
       " Variant(contig=chr21, start=25777172, ref=C, alts=[AltAllele(ref=C, alt=CT)]),\n",
       " Variant(contig=chr21, start=25777191, ref=G, alts=[AltAllele(ref=G, alt=T)]),\n",
       " Variant(contig=chr21, start=25779400, ref=G, alts=[AltAllele(ref=G, alt=C)]),\n",
       " Variant(contig=chr21, start=25781113, ref=C, alts=[AltAllele(ref=C, alt=CA)])]"
      ]
     },
     "execution_count": 32,
     "metadata": {},
     "output_type": "execute_result"
    }
   ],
   "source": [
    "#vds_result.query_variants('variants.take(5)')"
   ]
  },
  {
   "cell_type": "markdown",
   "metadata": {},
   "source": [
    "## Running PCA on Freeze 5b Genotypes"
   ]
  },
  {
   "cell_type": "code",
   "execution_count": 33,
   "metadata": {
    "scrolled": true
   },
   "outputs": [
    {
     "name": "stderr",
     "output_type": "stream",
     "text": [
      "2017-11-29 16:00:10 Hail: INFO: Running PCA with 5 components...\n"
     ]
    }
   ],
   "source": [
    "# do pca\n",
    "pca = vds_result.pca('sa.pca', k=5, eigenvalues='global.eigen')"
   ]
  },
  {
   "cell_type": "code",
   "execution_count": 61,
   "metadata": {},
   "outputs": [
    {
     "data": {
      "text/plain": [
       "{u'JHS': 697L}"
      ]
     },
     "execution_count": 61,
     "metadata": {},
     "output_type": "execute_result"
    }
   ],
   "source": [
    "pca.summarize()\n",
    "vds_result.query_samples('samples.map(s => sa.study).counter()')"
   ]
  },
  {
   "cell_type": "code",
   "execution_count": 76,
   "metadata": {},
   "outputs": [
    {
     "name": "stdout",
     "output_type": "stream",
     "text": [
      "[(u'JHS', 'aec7e8')]\n",
      "['aec7e8']\n"
     ]
    },
    {
     "data": {
      "text/html": [
       "<div style=\"max-height:1000px;max-width:1500px;overflow:auto;\">\n",
       "<table border=\"1\" class=\"dataframe\">\n",
       "  <thead>\n",
       "    <tr style=\"text-align: right;\">\n",
       "      <th></th>\n",
       "      <th>s</th>\n",
       "      <th>sa.ent_sample_id</th>\n",
       "      <th>sa.CENTER</th>\n",
       "      <th>sa.study</th>\n",
       "      <th>sa.topmed_project</th>\n",
       "      <th>sa.consent</th>\n",
       "      <th>sa.pca.PC1</th>\n",
       "      <th>sa.pca.PC2</th>\n",
       "      <th>sa.pca.PC3</th>\n",
       "      <th>sa.pca.PC4</th>\n",
       "      <th>sa.pca.PC5</th>\n",
       "    </tr>\n",
       "  </thead>\n",
       "  <tbody>\n",
       "    <tr>\n",
       "      <th>0</th>\n",
       "      <td> NWD100014</td>\n",
       "      <td> freeze5a_NWD100014</td>\n",
       "      <td> uw</td>\n",
       "      <td> JHS</td>\n",
       "      <td> JHS</td>\n",
       "      <td> HMB-IRB-NPU</td>\n",
       "      <td> 0.005124</td>\n",
       "      <td> 0.099248</td>\n",
       "      <td> 0.007431</td>\n",
       "      <td>-0.033717</td>\n",
       "      <td> 0.061400</td>\n",
       "    </tr>\n",
       "    <tr>\n",
       "      <th>1</th>\n",
       "      <td> NWD100597</td>\n",
       "      <td> freeze5a_NWD100597</td>\n",
       "      <td> uw</td>\n",
       "      <td> JHS</td>\n",
       "      <td> JHS</td>\n",
       "      <td> HMB-IRB-NPU</td>\n",
       "      <td> 0.084654</td>\n",
       "      <td>-0.015231</td>\n",
       "      <td>-0.041212</td>\n",
       "      <td>-0.010986</td>\n",
       "      <td> 0.090482</td>\n",
       "    </tr>\n",
       "    <tr>\n",
       "      <th>2</th>\n",
       "      <td> NWD100900</td>\n",
       "      <td> freeze5a_NWD100900</td>\n",
       "      <td> uw</td>\n",
       "      <td> JHS</td>\n",
       "      <td> JHS</td>\n",
       "      <td> HMB-IRB-NPU</td>\n",
       "      <td> 0.007049</td>\n",
       "      <td>-0.115969</td>\n",
       "      <td> 0.017365</td>\n",
       "      <td>-0.046528</td>\n",
       "      <td> 0.080762</td>\n",
       "    </tr>\n",
       "    <tr>\n",
       "      <th>3</th>\n",
       "      <td> NWD102903</td>\n",
       "      <td> freeze5a_NWD102903</td>\n",
       "      <td> uw</td>\n",
       "      <td> JHS</td>\n",
       "      <td> JHS</td>\n",
       "      <td> HMB-IRB-NPU</td>\n",
       "      <td>-0.107903</td>\n",
       "      <td>-0.064003</td>\n",
       "      <td> 0.040225</td>\n",
       "      <td>-0.111018</td>\n",
       "      <td> 0.017785</td>\n",
       "    </tr>\n",
       "    <tr>\n",
       "      <th>4</th>\n",
       "      <td> NWD103804</td>\n",
       "      <td> freeze5a_NWD103804</td>\n",
       "      <td> uw</td>\n",
       "      <td> JHS</td>\n",
       "      <td> JHS</td>\n",
       "      <td> HMB-IRB-NPU</td>\n",
       "      <td>-0.108344</td>\n",
       "      <td> 0.103910</td>\n",
       "      <td> 0.031311</td>\n",
       "      <td> 0.013897</td>\n",
       "      <td> 0.047623</td>\n",
       "    </tr>\n",
       "  </tbody>\n",
       "</table>\n",
       "</div>"
      ],
      "text/plain": [
       "           s    sa.ent_sample_id sa.CENTER sa.study sa.topmed_project  \\\n",
       "0  NWD100014  freeze5a_NWD100014        uw      JHS               JHS   \n",
       "1  NWD100597  freeze5a_NWD100597        uw      JHS               JHS   \n",
       "2  NWD100900  freeze5a_NWD100900        uw      JHS               JHS   \n",
       "3  NWD102903  freeze5a_NWD102903        uw      JHS               JHS   \n",
       "4  NWD103804  freeze5a_NWD103804        uw      JHS               JHS   \n",
       "\n",
       "    sa.consent  sa.pca.PC1  sa.pca.PC2  sa.pca.PC3  sa.pca.PC4  sa.pca.PC5  \n",
       "0  HMB-IRB-NPU    0.005124    0.099248    0.007431   -0.033717    0.061400  \n",
       "1  HMB-IRB-NPU    0.084654   -0.015231   -0.041212   -0.010986    0.090482  \n",
       "2  HMB-IRB-NPU    0.007049   -0.115969    0.017365   -0.046528    0.080762  \n",
       "3  HMB-IRB-NPU   -0.107903   -0.064003    0.040225   -0.111018    0.017785  \n",
       "4  HMB-IRB-NPU   -0.108344    0.103910    0.031311    0.013897    0.047623  "
      ]
     },
     "execution_count": 76,
     "metadata": {},
     "output_type": "execute_result"
    }
   ],
   "source": [
    "c = [\"aec7e8\"] #,\"ff7f0e\",\"ffbb78\",\"2ca02c\",\"98df8a\",\"d62728\",\"ff9896\",\"9467bd\",\"c5b0d5\",\"8c564b\",\"c49c94\"]\n",
    "cz = zip(vds_result.query_samples('samples.map(s => sa.study).counter()').keys(),c)\n",
    "colors = {t[0]: t[1] for t in cz}\n",
    "\n",
    "pca_table = pca.samples_table().to_pandas()\n",
    "\n",
    "print colors.items()\n",
    "print pca_table[\"sa.study\"].map(colors).unique()\n",
    "pca_table.head()\n",
    "\n"
   ]
  },
  {
   "cell_type": "markdown",
   "metadata": {},
   "source": [
    "### Visualize the differences in families within the studies by principle components."
   ]
  },
  {
   "cell_type": "code",
   "execution_count": 75,
   "metadata": {},
   "outputs": [
    {
     "ename": "ValueError",
     "evalue": "to_rgba: Invalid rgba arg \"aec7e8\"\nto_rgb: Invalid rgb arg \"aec7e8\"\ncould not convert string to float: aec7e8",
     "output_type": "error",
     "traceback": [
      "\u001b[0;31m\u001b[0m",
      "\u001b[0;31mValueError\u001b[0mTraceback (most recent call last)",
      "\u001b[0;32m<ipython-input-75-e665406529f9>\u001b[0m in \u001b[0;36m<module>\u001b[0;34m()\u001b[0m\n\u001b[1;32m     12\u001b[0m plt.scatter(pca_table[\"sa.pca.PC1\"], pca_table[\"sa.pca.PC2\"],\n\u001b[1;32m     13\u001b[0m             \u001b[0mc\u001b[0m \u001b[0;34m=\u001b[0m \u001b[0mpca_table\u001b[0m\u001b[0;34m[\u001b[0m\u001b[0;34m\"sa.study\"\u001b[0m\u001b[0;34m]\u001b[0m\u001b[0;34m.\u001b[0m\u001b[0mmap\u001b[0m\u001b[0;34m(\u001b[0m\u001b[0mcolors\u001b[0m\u001b[0;34m)\u001b[0m\u001b[0;34m,\u001b[0m\u001b[0;34m\u001b[0m\u001b[0m\n\u001b[0;32m---> 14\u001b[0;31m             alpha = .5)\n\u001b[0m\u001b[1;32m     15\u001b[0m \u001b[0;34m\u001b[0m\u001b[0m\n\u001b[1;32m     16\u001b[0m \u001b[0mplt\u001b[0m\u001b[0;34m.\u001b[0m\u001b[0mxlim\u001b[0m\u001b[0;34m(\u001b[0m\u001b[0;34m-\u001b[0m\u001b[0;36m0.6\u001b[0m\u001b[0;34m,\u001b[0m \u001b[0;36m0.6\u001b[0m\u001b[0;34m)\u001b[0m\u001b[0;34m\u001b[0m\u001b[0m\n",
      "\u001b[0;32m/usr/lib/python2.7/dist-packages/matplotlib/pyplot.pyc\u001b[0m in \u001b[0;36mscatter\u001b[0;34m(x, y, s, c, marker, cmap, norm, vmin, vmax, alpha, linewidths, verts, hold, **kwargs)\u001b[0m\n\u001b[1;32m   3198\u001b[0m         ret = ax.scatter(x, y, s=s, c=c, marker=marker, cmap=cmap, norm=norm,\n\u001b[1;32m   3199\u001b[0m                          \u001b[0mvmin\u001b[0m\u001b[0;34m=\u001b[0m\u001b[0mvmin\u001b[0m\u001b[0;34m,\u001b[0m \u001b[0mvmax\u001b[0m\u001b[0;34m=\u001b[0m\u001b[0mvmax\u001b[0m\u001b[0;34m,\u001b[0m \u001b[0malpha\u001b[0m\u001b[0;34m=\u001b[0m\u001b[0malpha\u001b[0m\u001b[0;34m,\u001b[0m\u001b[0;34m\u001b[0m\u001b[0m\n\u001b[0;32m-> 3200\u001b[0;31m                          linewidths=linewidths, verts=verts, **kwargs)\n\u001b[0m\u001b[1;32m   3201\u001b[0m         \u001b[0mdraw_if_interactive\u001b[0m\u001b[0;34m(\u001b[0m\u001b[0;34m)\u001b[0m\u001b[0;34m\u001b[0m\u001b[0m\n\u001b[1;32m   3202\u001b[0m     \u001b[0;32mfinally\u001b[0m\u001b[0;34m:\u001b[0m\u001b[0;34m\u001b[0m\u001b[0m\n",
      "\u001b[0;32m/usr/lib/python2.7/dist-packages/matplotlib/axes/_axes.pyc\u001b[0m in \u001b[0;36mscatter\u001b[0;34m(self, x, y, s, c, marker, cmap, norm, vmin, vmax, alpha, linewidths, verts, **kwargs)\u001b[0m\n\u001b[1;32m   3605\u001b[0m \u001b[0;34m\u001b[0m\u001b[0m\n\u001b[1;32m   3606\u001b[0m         \u001b[0;32mif\u001b[0m \u001b[0mc_is_stringy\u001b[0m\u001b[0;34m:\u001b[0m\u001b[0;34m\u001b[0m\u001b[0m\n\u001b[0;32m-> 3607\u001b[0;31m             \u001b[0mcolors\u001b[0m \u001b[0;34m=\u001b[0m \u001b[0mmcolors\u001b[0m\u001b[0;34m.\u001b[0m\u001b[0mcolorConverter\u001b[0m\u001b[0;34m.\u001b[0m\u001b[0mto_rgba_array\u001b[0m\u001b[0;34m(\u001b[0m\u001b[0mc\u001b[0m\u001b[0;34m,\u001b[0m \u001b[0malpha\u001b[0m\u001b[0;34m)\u001b[0m\u001b[0;34m\u001b[0m\u001b[0m\n\u001b[0m\u001b[1;32m   3608\u001b[0m         \u001b[0;32melse\u001b[0m\u001b[0;34m:\u001b[0m\u001b[0;34m\u001b[0m\u001b[0m\n\u001b[1;32m   3609\u001b[0m             \u001b[0;31m# The inherent ambiguity is resolved in favor of color\u001b[0m\u001b[0;34m\u001b[0m\u001b[0;34m\u001b[0m\u001b[0m\n",
      "\u001b[0;32m/usr/lib/python2.7/dist-packages/matplotlib/colors.pyc\u001b[0m in \u001b[0;36mto_rgba_array\u001b[0;34m(self, c, alpha)\u001b[0m\n\u001b[1;32m    420\u001b[0m             \u001b[0mresult\u001b[0m \u001b[0;34m=\u001b[0m \u001b[0mnp\u001b[0m\u001b[0;34m.\u001b[0m\u001b[0mzeros\u001b[0m\u001b[0;34m(\u001b[0m\u001b[0;34m(\u001b[0m\u001b[0mnc\u001b[0m\u001b[0;34m,\u001b[0m \u001b[0;36m4\u001b[0m\u001b[0;34m)\u001b[0m\u001b[0;34m,\u001b[0m \u001b[0mdtype\u001b[0m\u001b[0;34m=\u001b[0m\u001b[0mnp\u001b[0m\u001b[0;34m.\u001b[0m\u001b[0mfloat\u001b[0m\u001b[0;34m)\u001b[0m\u001b[0;34m\u001b[0m\u001b[0m\n\u001b[1;32m    421\u001b[0m             \u001b[0;32mfor\u001b[0m \u001b[0mi\u001b[0m\u001b[0;34m,\u001b[0m \u001b[0mcc\u001b[0m \u001b[0;32min\u001b[0m \u001b[0menumerate\u001b[0m\u001b[0;34m(\u001b[0m\u001b[0mc\u001b[0m\u001b[0;34m)\u001b[0m\u001b[0;34m:\u001b[0m\u001b[0;34m\u001b[0m\u001b[0m\n\u001b[0;32m--> 422\u001b[0;31m                 \u001b[0mresult\u001b[0m\u001b[0;34m[\u001b[0m\u001b[0mi\u001b[0m\u001b[0;34m]\u001b[0m \u001b[0;34m=\u001b[0m \u001b[0mself\u001b[0m\u001b[0;34m.\u001b[0m\u001b[0mto_rgba\u001b[0m\u001b[0;34m(\u001b[0m\u001b[0mcc\u001b[0m\u001b[0;34m,\u001b[0m \u001b[0malpha\u001b[0m\u001b[0;34m)\u001b[0m\u001b[0;34m\u001b[0m\u001b[0m\n\u001b[0m\u001b[1;32m    423\u001b[0m             \u001b[0;32mreturn\u001b[0m \u001b[0mresult\u001b[0m\u001b[0;34m\u001b[0m\u001b[0m\n\u001b[1;32m    424\u001b[0m \u001b[0;34m\u001b[0m\u001b[0m\n",
      "\u001b[0;32m/usr/lib/python2.7/dist-packages/matplotlib/colors.pyc\u001b[0m in \u001b[0;36mto_rgba\u001b[0;34m(self, arg, alpha)\u001b[0m\n\u001b[1;32m    374\u001b[0m         \u001b[0;32mexcept\u001b[0m \u001b[0;34m(\u001b[0m\u001b[0mTypeError\u001b[0m\u001b[0;34m,\u001b[0m \u001b[0mValueError\u001b[0m\u001b[0;34m)\u001b[0m \u001b[0;32mas\u001b[0m \u001b[0mexc\u001b[0m\u001b[0;34m:\u001b[0m\u001b[0;34m\u001b[0m\u001b[0m\n\u001b[1;32m    375\u001b[0m             raise ValueError(\n\u001b[0;32m--> 376\u001b[0;31m                 'to_rgba: Invalid rgba arg \"%s\"\\n%s' % (str(arg), exc))\n\u001b[0m\u001b[1;32m    377\u001b[0m \u001b[0;34m\u001b[0m\u001b[0m\n\u001b[1;32m    378\u001b[0m     \u001b[0;32mdef\u001b[0m \u001b[0mto_rgba_array\u001b[0m\u001b[0;34m(\u001b[0m\u001b[0mself\u001b[0m\u001b[0;34m,\u001b[0m \u001b[0mc\u001b[0m\u001b[0;34m,\u001b[0m \u001b[0malpha\u001b[0m\u001b[0;34m=\u001b[0m\u001b[0mNone\u001b[0m\u001b[0;34m)\u001b[0m\u001b[0;34m:\u001b[0m\u001b[0;34m\u001b[0m\u001b[0m\n",
      "\u001b[0;31mValueError\u001b[0m: to_rgba: Invalid rgba arg \"aec7e8\"\nto_rgb: Invalid rgb arg \"aec7e8\"\ncould not convert string to float: aec7e8"
     ]
    },
    {
     "data": {
      "image/png": "[encoded data removed]",
      "text/plain": [
       "<matplotlib.figure.Figure at 0x7f32a3d225d0>"
      ]
     },
     "metadata": {},
     "output_type": "display_data"
    }
   ],
   "source": [
    "\n",
    "# show the pca results\n",
    "import numpy as np\n",
    "import pandas as pd\n",
    "import matplotlib.pyplot as plt\n",
    "import matplotlib.patches as mpatches\n",
    "from collections import Counter\n",
    "from math import log, isnan\n",
    "from pprint import pprint\n",
    "%matplotlib inline\n",
    "\n",
    "plt.scatter(pca_table[\"sa.pca.PC1\"], pca_table[\"sa.pca.PC2\"],\n",
    "            c = pca_table[\"sa.study\"].map(colors),\n",
    "            alpha = .5)\n",
    "\n",
    "plt.xlim(-0.6, 0.6)\n",
    "plt.xlabel(\"PC1\")\n",
    "plt.ylabel(\"PC2\")\n",
    "legend_entries = [mpatches.Patch(color=c, label=x) for x, c in colors.items()]\n",
    "plt.show()"
   ]
  },
  {
   "cell_type": "code",
   "execution_count": null,
   "metadata": {},
   "outputs": [],
   "source": []
  }
 ],
 "metadata": {
  "kernelspec": {
   "display_name": "Python 2",
   "language": "python",
   "name": "python2"
  },
  "language_info": {
   "codemirror_mode": {
    "name": "ipython",
    "version": 2
   },
   "file_extension": ".py",
   "mimetype": "text/x-python",
   "name": "python",
   "nbconvert_exporter": "python",
   "pygments_lexer": "ipython2",
   "version": "2.7.9"
  }
 },
 "nbformat": 4,
 "nbformat_minor": 2
}
